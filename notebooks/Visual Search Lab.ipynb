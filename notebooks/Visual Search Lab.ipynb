{
 "cells": [
  {
   "cell_type": "markdown",
   "id": "excessive-object",
   "metadata": {},
   "source": [
    "# Data Retrival"
   ]
  },
  {
   "cell_type": "markdown",
   "id": "christian-manor",
   "metadata": {},
   "source": [
    "The data retrival part of this project has been done in a different repository which you can find [here](https://github.com/prp-e/digistyle_data_retrive) and it works on a fashion retail store in Iran. You can change it accordingly, but here we just use it for educational purposes only."
   ]
  },
  {
   "cell_type": "markdown",
   "id": "entitled-pottery",
   "metadata": {},
   "source": [
    "## Processing the retrived data"
   ]
  },
  {
   "cell_type": "markdown",
   "id": "geographic-sociology",
   "metadata": {},
   "source": [
    "In this part, we're just processing the data in a format that we understand better. Because we're going to perform match-finding and then a search on them. Basically, we need to:\n",
    "\n",
    "* Download Images\n",
    "* Store images in a reliable place\n",
    "* Collect addresses and images in a CSV file (or a database)\n",
    "\n",
    "The whole procedure is like that, and there's no music theory or rocket science involved."
   ]
  },
  {
   "cell_type": "code",
   "execution_count": 2,
   "id": "labeled-paris",
   "metadata": {},
   "outputs": [],
   "source": [
    "import json\n",
    "\n",
    "raw_file = open('products.json')\n",
    "\n",
    "json_file = json.loads(raw_file.read())"
   ]
  },
  {
   "cell_type": "code",
   "execution_count": 8,
   "id": "multiple-corner",
   "metadata": {},
   "outputs": [],
   "source": [
    "import os\n",
    "import wget\n",
    "import pandas as pd\n",
    "\n",
    "product_csv = []\n",
    "out_dir = 'data/images/'"
   ]
  },
  {
   "cell_type": "code",
   "execution_count": 11,
   "id": "ambient-psychiatry",
   "metadata": {},
   "outputs": [],
   "source": [
    "import ssl\n",
    "\n",
    "try:\n",
    "    _create_unverified_https_context = ssl._create_unverified_context\n",
    "except AttributeError:\n",
    "    pass\n",
    "else:\n",
    "    ssl._create_default_https_context = _create_unverified_https_context"
   ]
  },
  {
   "cell_type": "markdown",
   "id": "empirical-debate",
   "metadata": {},
   "source": [
    "## Making the dataset"
   ]
  },
  {
   "cell_type": "code",
   "execution_count": 15,
   "id": "utility-cuisine",
   "metadata": {},
   "outputs": [],
   "source": [
    "import time\n",
    "\n",
    "for product in json_file:\n",
    "    product_info = []\n",
    "    file = wget.download(product['picture'], out=out_dir)\n",
    "    product_info.append(file)\n",
    "    product_info.append(product['url'])\n",
    "    \n",
    "    product_csv.append(product_info)\n",
    "    time.sleep(1)"
   ]
  }
 ],
 "metadata": {
  "kernelspec": {
   "display_name": "Python 3",
   "language": "python",
   "name": "python3"
  },
  "language_info": {
   "codemirror_mode": {
    "name": "ipython",
    "version": 3
   },
   "file_extension": ".py",
   "mimetype": "text/x-python",
   "name": "python",
   "nbconvert_exporter": "python",
   "pygments_lexer": "ipython3",
   "version": "3.8.6"
  }
 },
 "nbformat": 4,
 "nbformat_minor": 5
}
