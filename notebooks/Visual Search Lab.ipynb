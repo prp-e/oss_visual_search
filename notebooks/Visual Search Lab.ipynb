{
 "cells": [
  {
   "cell_type": "markdown",
   "id": "ancient-spotlight",
   "metadata": {},
   "source": [
    "# Data Retrival"
   ]
  },
  {
   "cell_type": "markdown",
   "id": "amazing-aluminum",
   "metadata": {},
   "source": [
    "The data retrival part of this project has been done in a different repository which you can find [here](https://github.com/prp-e/digistyle_data_retrive) and it works on a fashion retail store in Iran. You can change it accordingly, but here we just use it for educational purposes only."
   ]
  },
  {
   "cell_type": "markdown",
   "id": "dramatic-interference",
   "metadata": {},
   "source": [
    "## Processing the retrived data"
   ]
  },
  {
   "cell_type": "markdown",
   "id": "acoustic-share",
   "metadata": {},
   "source": [
    "In this part, we're just processing the data in a format that we understand better. Because we're going to perform match-finding and then a search on them. Basically, we need to:\n",
    "\n",
    "* Download Images\n",
    "* Store images in a reliable place\n",
    "* Collect addresses and images in a CSV file (or a database)\n",
    "\n",
    "The whole procedure is like that, and there's no music theory or rocket science involved."
   ]
  },
  {
   "cell_type": "code",
   "execution_count": 2,
   "id": "beautiful-belarus",
   "metadata": {},
   "outputs": [],
   "source": [
    "import json\n",
    "\n",
    "raw_file = open('products.json')\n",
    "\n",
    "json_file = json.loads(raw_file.read())"
   ]
  },
  {
   "cell_type": "code",
   "execution_count": 8,
   "id": "returning-joshua",
   "metadata": {},
   "outputs": [],
   "source": [
    "import os\n",
    "import wget\n",
    "import pandas as pd\n",
    "\n",
    "product_csv = []\n",
    "out_dir = 'data/images/'"
   ]
  },
  {
   "cell_type": "code",
   "execution_count": 11,
   "id": "naked-swedish",
   "metadata": {},
   "outputs": [],
   "source": [
    "import ssl\n",
    "\n",
    "try:\n",
    "    _create_unverified_https_context = ssl._create_unverified_context\n",
    "except AttributeError:\n",
    "    pass\n",
    "else:\n",
    "    ssl._create_default_https_context = _create_unverified_https_context"
   ]
  },
  {
   "cell_type": "markdown",
   "id": "thermal-purse",
   "metadata": {},
   "source": [
    "## Making the dataset"
   ]
  },
  {
   "cell_type": "code",
   "execution_count": 15,
   "id": "preceding-irrigation",
   "metadata": {},
   "outputs": [],
   "source": [
    "import time\n",
    "\n",
    "for product in json_file:\n",
    "    product_info = []\n",
    "    file = wget.download(product['picture'], out=out_dir)\n",
    "    product_info.append(file)\n",
    "    product_info.append(product['url'])\n",
    "    \n",
    "    product_csv.append(product_info)\n",
    "    time.sleep(1)"
   ]
  },
  {
   "cell_type": "code",
   "execution_count": 17,
   "id": "superb-horizontal",
   "metadata": {},
   "outputs": [
    {
     "data": {
      "text/plain": [
       "360"
      ]
     },
     "execution_count": 17,
     "metadata": {},
     "output_type": "execute_result"
    }
   ],
   "source": [
    "len(product_csv)"
   ]
  },
  {
   "cell_type": "markdown",
   "id": "attractive-photographer",
   "metadata": {},
   "source": [
    "## Creating the CSV file"
   ]
  },
  {
   "cell_type": "code",
   "execution_count": 18,
   "id": "comparative-participation",
   "metadata": {},
   "outputs": [],
   "source": [
    "df = pd.DataFrame(product_csv)"
   ]
  },
  {
   "cell_type": "code",
   "execution_count": 19,
   "id": "dramatic-clinton",
   "metadata": {},
   "outputs": [
    {
     "data": {
      "text/html": [
       "<div>\n",
       "<style scoped>\n",
       "    .dataframe tbody tr th:only-of-type {\n",
       "        vertical-align: middle;\n",
       "    }\n",
       "\n",
       "    .dataframe tbody tr th {\n",
       "        vertical-align: top;\n",
       "    }\n",
       "\n",
       "    .dataframe thead th {\n",
       "        text-align: right;\n",
       "    }\n",
       "</style>\n",
       "<table border=\"1\" class=\"dataframe\">\n",
       "  <thead>\n",
       "    <tr style=\"text-align: right;\">\n",
       "      <th></th>\n",
       "      <th>0</th>\n",
       "      <th>1</th>\n",
       "    </tr>\n",
       "  </thead>\n",
       "  <tbody>\n",
       "    <tr>\n",
       "      <th>0</th>\n",
       "      <td>data/images//23f988c31a34fa02610b3ee5554bb1b4c...</td>\n",
       "      <td>https://www.digistyle.com/product/7051816-بلوز...</td>\n",
       "    </tr>\n",
       "    <tr>\n",
       "      <th>1</th>\n",
       "      <td>data/images//ac569b3b0368b95d1677e7aaf15bd0628...</td>\n",
       "      <td>https://www.digistyle.com/product/7050133-بلوز...</td>\n",
       "    </tr>\n",
       "    <tr>\n",
       "      <th>2</th>\n",
       "      <td>data/images//7f9b29bc94dee0a0092c7f79eadbd876f...</td>\n",
       "      <td>https://www.digistyle.com/product/5134826-پولو...</td>\n",
       "    </tr>\n",
       "    <tr>\n",
       "      <th>3</th>\n",
       "      <td>data/images//b491886f4c39e271fb1762c253ddcc165...</td>\n",
       "      <td>https://www.digistyle.com/product/8641527-شلوا...</td>\n",
       "    </tr>\n",
       "    <tr>\n",
       "      <th>4</th>\n",
       "      <td>data/images//b5fcc805c22e024f10e292bf2984a435e...</td>\n",
       "      <td>https://www.digistyle.com/product/7050136-بلوز...</td>\n",
       "    </tr>\n",
       "  </tbody>\n",
       "</table>\n",
       "</div>"
      ],
      "text/plain": [
       "                                                   0  \\\n",
       "0  data/images//23f988c31a34fa02610b3ee5554bb1b4c...   \n",
       "1  data/images//ac569b3b0368b95d1677e7aaf15bd0628...   \n",
       "2  data/images//7f9b29bc94dee0a0092c7f79eadbd876f...   \n",
       "3  data/images//b491886f4c39e271fb1762c253ddcc165...   \n",
       "4  data/images//b5fcc805c22e024f10e292bf2984a435e...   \n",
       "\n",
       "                                                   1  \n",
       "0  https://www.digistyle.com/product/7051816-بلوز...  \n",
       "1  https://www.digistyle.com/product/7050133-بلوز...  \n",
       "2  https://www.digistyle.com/product/5134826-پولو...  \n",
       "3  https://www.digistyle.com/product/8641527-شلوا...  \n",
       "4  https://www.digistyle.com/product/7050136-بلوز...  "
      ]
     },
     "execution_count": 19,
     "metadata": {},
     "output_type": "execute_result"
    }
   ],
   "source": [
    "df.head()"
   ]
  },
  {
   "cell_type": "code",
   "execution_count": 20,
   "id": "prompt-accreditation",
   "metadata": {},
   "outputs": [],
   "source": [
    "df.to_csv('data/products.csv', index=False, header=False)"
   ]
  },
  {
   "cell_type": "markdown",
   "id": "aerial-trainer",
   "metadata": {},
   "source": [
    "# Visual Search Initiation"
   ]
  },
  {
   "cell_type": "code",
   "execution_count": null,
   "id": "minute-roman",
   "metadata": {},
   "outputs": [],
   "source": []
  }
 ],
 "metadata": {
  "kernelspec": {
   "display_name": "Python 3",
   "language": "python",
   "name": "python3"
  },
  "language_info": {
   "codemirror_mode": {
    "name": "ipython",
    "version": 3
   },
   "file_extension": ".py",
   "mimetype": "text/x-python",
   "name": "python",
   "nbconvert_exporter": "python",
   "pygments_lexer": "ipython3",
   "version": "3.8.6"
  }
 },
 "nbformat": 4,
 "nbformat_minor": 5
}
