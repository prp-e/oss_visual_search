{
 "cells": [
  {
   "cell_type": "markdown",
   "id": "electronic-lodging",
   "metadata": {},
   "source": [
    "# Data Retrival"
   ]
  },
  {
   "cell_type": "markdown",
   "id": "hindu-suspect",
   "metadata": {},
   "source": [
    "The data retrival part of this project has been done in a different repository which you can find [here](https://github.com/prp-e/digistyle_data_retrive) and it works on a fashion retail store in Iran. You can change it accordingly, but here we just use it for educational purposes only."
   ]
  },
  {
   "cell_type": "code",
   "execution_count": null,
   "id": "sharing-century",
   "metadata": {},
   "outputs": [],
   "source": []
  }
 ],
 "metadata": {
  "kernelspec": {
   "display_name": "Python 3",
   "language": "python",
   "name": "python3"
  },
  "language_info": {
   "codemirror_mode": {
    "name": "ipython",
    "version": 3
   },
   "file_extension": ".py",
   "mimetype": "text/x-python",
   "name": "python",
   "nbconvert_exporter": "python",
   "pygments_lexer": "ipython3",
   "version": "3.8.6"
  }
 },
 "nbformat": 4,
 "nbformat_minor": 5
}
